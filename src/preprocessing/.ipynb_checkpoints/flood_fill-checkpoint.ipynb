{
 "cells": [
  {
   "cell_type": "code",
   "execution_count": 1,
   "metadata": {
    "collapsed": false
   },
   "outputs": [],
   "source": [
    "from __future__ import division\n",
    "\n",
    "import numpy as np\n",
    "import pandas as pd\n",
    "import matplotlib.pyplot as plt\n",
    "import Image\n",
    "import matplotlib.patches as mpatches\n",
    "from collections import deque\n",
    "import time\n",
    "import cv2"
   ]
  },
  {
   "cell_type": "code",
   "execution_count": null,
   "metadata": {
    "collapsed": true
   },
   "outputs": [],
   "source": []
  },
  {
   "cell_type": "code",
   "execution_count": 2,
   "metadata": {
    "collapsed": false
   },
   "outputs": [],
   "source": [
    "#input_image = plt.imread('train_pic/10003_left.jpeg')\n",
    "#input_image = plt.imread('train96/10003_left.jpeg')\n",
    "input_image = plt.imread('train256/16_right.jpeg')\n",
    "plt.imshow(input_image)\n",
    "plt.show()"
   ]
  },
  {
   "cell_type": "code",
   "execution_count": 5,
   "metadata": {
    "collapsed": false
   },
   "outputs": [],
   "source": [
    "# test opencv\n",
    "input_image_cv = cv2.imread('train256/16_right.jpeg', 1)\n",
    "#input_image_cv = cv2.imread('train256/16_right.jpeg', cv2.CV_LOAD_IMAGE_COLOR)\n",
    "cv2.imshow('image',input_image_cv)\n",
    "cv2.waitKey(0)\n",
    "cv2.destroyAllWindows()\n"
   ]
  },
  {
   "cell_type": "code",
   "execution_count": null,
   "metadata": {
    "collapsed": false
   },
   "outputs": [],
   "source": [
    "# test opencv\n",
    "c_input_image_cv = cv2.cvtColor(input_image_cv, cv2.COLOR_BGR2HSV)\n",
    "#cv2.imshow('image',cv2.cvtColor(c_input_image_cv, cv2.COLOR_HSV2BGR))\n",
    "#cv2.waitKey(0)\n",
    "#cv2.destroyAllWindows()\n",
    "\n",
    "start = time.time()\n",
    "segment_res, res_pic_hsv, segment_counter = flood_fill_hsv(c_input_image_cv, 400)\n",
    "print time.time() - start\n",
    "res_pic_rbg = cv2.cvtColor(res_pic_hsv, cv2.COLOR_HSV2BGR)\n",
    "cv2.imshow('image',res_pic_rbg)\n",
    "cv2.waitKey(0)\n",
    "cv2.destroyAllWindows()"
   ]
  },
  {
   "cell_type": "code",
   "execution_count": null,
   "metadata": {
    "collapsed": false
   },
   "outputs": [],
   "source": [
    "segment_counter"
   ]
  },
  {
   "cell_type": "code",
   "execution_count": 7,
   "metadata": {
    "collapsed": false
   },
   "outputs": [],
   "source": [
    "# test opencv\n",
    "flags = [i for i in dir(cv2) if i.startswith('COLOR_')]"
   ]
  },
  {
   "cell_type": "code",
   "execution_count": null,
   "metadata": {
    "collapsed": false
   },
   "outputs": [],
   "source": [
    "input_image.shape"
   ]
  },
  {
   "cell_type": "code",
   "execution_count": 8,
   "metadata": {
    "collapsed": false,
    "scrolled": true
   },
   "outputs": [],
   "source": [
    "def flood_fill_hsv(input_image, threshold):\n",
    "    segment_counter = 0\n",
    "    segment_res = np.zeros((input_image.shape[0], input_image.shape[1]), dtype=np.uint64)\n",
    "    color_mean = []\n",
    "    #debug\n",
    "    #print segment_res.shape\n",
    "    #covered_pixel = 0\n",
    "    #debug\n",
    "    direction = [(0, -1), (0, 1), (1, 0), (-1, 0)]\n",
    "    x = input_image.shape[0]\n",
    "    y = input_image.shape[1]\n",
    "    \n",
    "    for i in range(input_image.shape[0]):\n",
    "        for j in range(input_image.shape[1]):\n",
    "            if (segment_res[i][j] == 0):\n",
    "                queue_list = deque([(i, j)])\n",
    "                segment_counter = segment_counter + 1\n",
    "                segment_res[i][j] = segment_counter\n",
    "                #regeion_color0 = [input_image[i][j][0]]\n",
    "                #regeion_color1 = [input_image[i][j][1]]\n",
    "                #regeion_color2 = [input_image[i][j][2]]\n",
    "                c0_sum = long(input_image[i][j][0])\n",
    "                c0_num = long(1)\n",
    "                #while (len(queue_list) > 0):\n",
    "                #start = time.time()\n",
    "                while queue_list:\n",
    "                    center_i, center_j = queue_list.popleft()\n",
    "                    #center_i = queue_list[0][0]\n",
    "                    #center_j = queue_list[0][1]\n",
    "                    #for new_i in range(center_i - 1, center_i + 2):\n",
    "                        #for new_j in range(center_j - 1, center_j + 2):\n",
    "                    for dirc in direction:\n",
    "                        new_i = center_i + dirc[0]\n",
    "                        new_j = center_j + dirc[1]\n",
    "                        if (new_i >= 0 and new_i < x and new_j >= 0 and new_j < y and segment_res[new_i][new_j] == 0):\n",
    "                            delta0 = input_image[center_i][center_j][0] - input_image[new_i][new_j][0]\n",
    "                            color_distance = (delta0 ** 2)\n",
    "                            if (color_distance <= threshold):\n",
    "                                queue_list.append((new_i, new_j))\n",
    "                                segment_res[new_i][new_j] = segment_counter\n",
    "                                #regeion_color0.append(input_image[new_i][new_j][0])\n",
    "                                #regeion_color1.append(input_image[new_i][new_j][1])\n",
    "                                #regeion_color2.append(input_image[new_i][new_j][2])\n",
    "                                c0_sum += input_image[new_i][new_j][0]\n",
    "                                c0_num += 1\n",
    "                                #\n",
    "                                #covered_pixel = covered_pixel + 1\n",
    "                                #\n",
    "                    #queue_list.popleft()\n",
    "                #print \"1\",time.time() - start\n",
    "                start = time.time()\n",
    "                #color_mean.append((pd.Series(regeion_color0).median(), pd.Series(regeion_color1).median(), pd.Series(regeion_color2).median()))\n",
    "                #color_mean.append((int(np.array(regeion_color0).mean()), int(np.array(regeion_color1).mean()), int(np.array(regeion_color2).mean())))\n",
    "                color_mean.append(int(c0_sum/c0_num))\n",
    "                print \"2\",time.time() - start\n",
    "\n",
    "    #res_pic = np.zeros(input_image.shape, dtype = np.uint8)\n",
    "    res_pic = np.array(input_image)\n",
    "    for i in range(x):\n",
    "        for j in range(y):\n",
    "            res_pic[i][j][0] = color_mean[int(segment_res[i][j] - 1)]\n",
    "\n",
    "    return segment_res, res_pic, segment_counter"
   ]
  },
  {
   "cell_type": "code",
   "execution_count": 10,
   "metadata": {
    "collapsed": false
   },
   "outputs": [],
   "source": [
    "def flood_fill(input_image, threshold):\n",
    "    segment_counter = 0\n",
    "    segment_res = np.zeros((input_image.shape[0], input_image.shape[1]), dtype=np.uint64)\n",
    "    color_mean = []\n",
    "    #debug\n",
    "    #print segment_res.shape\n",
    "    #covered_pixel = 0\n",
    "    #debug\n",
    "    direction = [(0, -1), (0, 1), (1, 0), (-1, 0)]\n",
    "    x = input_image.shape[0]\n",
    "    y = input_image.shape[1]\n",
    "    \n",
    "    for i in range(input_image.shape[0]):\n",
    "        for j in range(input_image.shape[1]):\n",
    "            if (segment_res[i][j] == 0):\n",
    "                queue_list = deque([(i, j)])\n",
    "                segment_counter = segment_counter + 1\n",
    "                segment_res[i][j] = segment_counter\n",
    "                #regeion_color0 = [input_image[i][j][0]]\n",
    "                #regeion_color1 = [input_image[i][j][1]]\n",
    "                #regeion_color2 = [input_image[i][j][2]]\n",
    "                c0_sum = long(input_image[i][j][0])\n",
    "                c0_num = long(1)\n",
    "                c1_sum = long(input_image[i][j][1])\n",
    "                c1_num = long(1)\n",
    "                c2_sum = long(input_image[i][j][2])\n",
    "                c2_num = long(1)\n",
    "                #while (len(queue_list) > 0):\n",
    "                #start = time.time()\n",
    "                while queue_list:\n",
    "                    center_i, center_j = queue_list.popleft()\n",
    "                    #center_i = queue_list[0][0]\n",
    "                    #center_j = queue_list[0][1]\n",
    "                    #for new_i in range(center_i - 1, center_i + 2):\n",
    "                        #for new_j in range(center_j - 1, center_j + 2):\n",
    "                    for dirc in direction:\n",
    "                        new_i = center_i + dirc[0]\n",
    "                        new_j = center_j + dirc[1]\n",
    "                        if (new_i >= 0 and new_i < x and new_j >= 0 and new_j < y and segment_res[new_i][new_j] == 0):\n",
    "                            delta0 = input_image[center_i][center_j][0] - input_image[new_i][new_j][0]\n",
    "                            delta1 = input_image[center_i][center_j][1] - input_image[new_i][new_j][1]\n",
    "                            delta2 = input_image[center_i][center_j][2] - input_image[new_i][new_j][2]\n",
    "                            color_distance = (delta0 ** 2) + (delta1 ** 2) + (delta2 ** 2)\n",
    "                            if (color_distance <= threshold):\n",
    "                                queue_list.append((new_i, new_j))\n",
    "                                segment_res[new_i][new_j] = segment_counter\n",
    "                                #regeion_color0.append(input_image[new_i][new_j][0])\n",
    "                                #regeion_color1.append(input_image[new_i][new_j][1])\n",
    "                                #regeion_color2.append(input_image[new_i][new_j][2])\n",
    "                                c0_sum += input_image[new_i][new_j][0]\n",
    "                                c0_num += 1\n",
    "                                c1_sum += input_image[new_i][new_j][1]\n",
    "                                c1_num += 1\n",
    "                                c2_sum += input_image[new_i][new_j][2]\n",
    "                                c2_num += 1\n",
    "                                #\n",
    "                                #covered_pixel = covered_pixel + 1\n",
    "                                #\n",
    "                    #queue_list.popleft()\n",
    "                #print \"1\",time.time() - start\n",
    "                #start = time.time()\n",
    "                #color_mean.append((pd.Series(regeion_color0).median(), pd.Series(regeion_color1).median(), pd.Series(regeion_color2).median()))\n",
    "                #color_mean.append((int(np.array(regeion_color0).mean()), int(np.array(regeion_color1).mean()), int(np.array(regeion_color2).mean())))\n",
    "                color_mean.append((int(c0_sum/c0_num), int(c1_sum/c1_num), int(c2_sum/c2_num)))\n",
    "                #print \"2\",time.time() - start\n",
    "\n",
    "    res_pic = np.zeros(input_image.shape, dtype = np.uint8)\n",
    "    for i in range(x):\n",
    "        for j in range(y):\n",
    "            res_pic[i][j][0] = color_mean[int(segment_res[i][j] - 1)][0]\n",
    "            res_pic[i][j][1] = color_mean[int(segment_res[i][j] - 1)][1]\n",
    "            res_pic[i][j][2] = color_mean[int(segment_res[i][j] - 1)][2]\n",
    "\n",
    "    return segment_res, res_pic, segment_counter"
   ]
  },
  {
   "cell_type": "code",
   "execution_count": 11,
   "metadata": {
    "collapsed": false
   },
   "outputs": [
    {
     "name": "stdout",
     "output_type": "stream",
     "text": [
      "2.00849199295\n"
     ]
    }
   ],
   "source": [
    "start = time.time()\n",
    "segment_res, res_pic, segment_counter = flood_fill(input_image, 100)\n",
    "print time.time() - start\n",
    "plt.imshow(res_pic)\n",
    "plt.show()"
   ]
  },
  {
   "cell_type": "code",
   "execution_count": 129,
   "metadata": {
    "collapsed": false
   },
   "outputs": [
    {
     "name": "stdout",
     "output_type": "stream",
     "text": [
      "15950\n"
     ]
    }
   ],
   "source": [
    "print segment_counter"
   ]
  },
  {
   "cell_type": "code",
   "execution_count": 23,
   "metadata": {
    "collapsed": false
   },
   "outputs": [
    {
     "data": {
      "text/plain": [
       "array([202, 174, 134], dtype=uint8)"
      ]
     },
     "execution_count": 23,
     "metadata": {},
     "output_type": "execute_result"
    }
   ],
   "source": [
    "input_image[1000][2000]"
   ]
  },
  {
   "cell_type": "code",
   "execution_count": 28,
   "metadata": {
    "collapsed": false
   },
   "outputs": [
    {
     "data": {
      "text/plain": [
       "array([[0, 0, 0, 0, 0],\n",
       "       [0, 0, 0, 0, 0],\n",
       "       [0, 0, 0, 0, 0],\n",
       "       [0, 0, 0, 0, 0],\n",
       "       [0, 0, 0, 0, 0]], dtype=uint64)"
      ]
     },
     "execution_count": 28,
     "metadata": {},
     "output_type": "execute_result"
    }
   ],
   "source": [
    "np.zeros((5, 5), dtype=np.uint64)"
   ]
  },
  {
   "cell_type": "code",
   "execution_count": null,
   "metadata": {
    "collapsed": false
   },
   "outputs": [],
   "source": []
  },
  {
   "cell_type": "code",
   "execution_count": null,
   "metadata": {
    "collapsed": false
   },
   "outputs": [],
   "source": []
  },
  {
   "cell_type": "code",
   "execution_count": null,
   "metadata": {
    "collapsed": false
   },
   "outputs": [],
   "source": []
  },
  {
   "cell_type": "code",
   "execution_count": null,
   "metadata": {
    "collapsed": false
   },
   "outputs": [],
   "source": []
  },
  {
   "cell_type": "code",
   "execution_count": null,
   "metadata": {
    "collapsed": false
   },
   "outputs": [],
   "source": []
  },
  {
   "cell_type": "code",
   "execution_count": null,
   "metadata": {
    "collapsed": false
   },
   "outputs": [],
   "source": []
  },
  {
   "cell_type": "code",
   "execution_count": null,
   "metadata": {
    "collapsed": false
   },
   "outputs": [],
   "source": []
  },
  {
   "cell_type": "code",
   "execution_count": 53,
   "metadata": {
    "collapsed": false
   },
   "outputs": [],
   "source": []
  },
  {
   "cell_type": "code",
   "execution_count": null,
   "metadata": {
    "collapsed": false
   },
   "outputs": [],
   "source": []
  },
  {
   "cell_type": "code",
   "execution_count": null,
   "metadata": {
    "collapsed": false
   },
   "outputs": [],
   "source": []
  },
  {
   "cell_type": "code",
   "execution_count": null,
   "metadata": {
    "collapsed": true
   },
   "outputs": [],
   "source": []
  }
 ],
 "metadata": {
  "kernelspec": {
   "display_name": "Python 2",
   "language": "python",
   "name": "python2"
  },
  "language_info": {
   "codemirror_mode": {
    "name": "ipython",
    "version": 2
   },
   "file_extension": ".py",
   "mimetype": "text/x-python",
   "name": "python",
   "nbconvert_exporter": "python",
   "pygments_lexer": "ipython2",
   "version": "2.7.9"
  }
 },
 "nbformat": 4,
 "nbformat_minor": 0
}
