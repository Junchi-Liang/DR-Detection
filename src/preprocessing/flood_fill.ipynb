{
 "cells": [
  {
   "cell_type": "code",
   "execution_count": 47,
   "metadata": {
    "collapsed": true
   },
   "outputs": [],
   "source": [
    "from __future__ import division\n",
    "\n",
    "import numpy as np\n",
    "import pandas as pd\n",
    "import matplotlib.pyplot as plt\n",
    "import matplotlib.patches as mpatches\n",
    "from collections import deque\n"
   ]
  },
  {
   "cell_type": "code",
   "execution_count": 2,
   "metadata": {
    "collapsed": true
   },
   "outputs": [],
   "source": [
    "input_image = plt.imread('train_pic/10003_left.jpeg')\n",
    "plt.imshow(input_image)\n",
    "plt.show()"
   ]
  },
  {
   "cell_type": "code",
   "execution_count": 48,
   "metadata": {
    "collapsed": false
   },
   "outputs": [],
   "source": [
    "def flood_fill(input_image, threshold):\n",
    "    segment_counter = 0\n",
    "    segment_res = np.zeros((input_image.shape[0], input_image.shape[1]))\n",
    "    color_mean = []\n",
    "    #debug\n",
    "    print segment_res.shape\n",
    "    covered_pixel = 0\n",
    "    #debug\n",
    "    for i in range(input_image.shape[0]):\n",
    "        for j in range(input_image.shape[1]):\n",
    "            if (segment_res[i][j] == 0):\n",
    "                queue_list = deque([(i, j)])\n",
    "                segment_counter = segment_counter + 1\n",
    "                segment_res[i][j] = segment_counter\n",
    "                regeion_color0 = [input_image[i][j][0]]\n",
    "                regeion_color1 = [input_image[i][j][1]]\n",
    "                regeion_color2 = [input_image[i][j][2]]\n",
    "                #\n",
    "                print 'start covering', covered_pixel\n",
    "                covered_pixel = covered_pixel + 1\n",
    "                #\n",
    "                while (len(queue_list) > 0):\n",
    "                    center_i = queue_list[0][0]\n",
    "                    center_j = queue_list[0][1]\n",
    "                    for new_i in range(center_i - 1, center_i + 2):\n",
    "                        for new_j in range(center_j - 1, center_j + 2):\n",
    "                            if (new_i >= 0 and new_i < input_image.shape[0] and new_j >= 0 and new_j < input_image.shape[1]):\n",
    "                                delta0 = input_image[center_i][center_j][0] - input_image[new_i][new_j][0]\n",
    "                                delta1 = input_image[center_i][center_j][1] - input_image[new_i][new_j][1]\n",
    "                                delta2 = input_image[center_i][center_j][2] - input_image[new_i][new_j][2]\n",
    "                                color_distance = (delta0 ** 2) + (delta1 ** 2) + (delta2 ** 2)\n",
    "                                if (segment_res[new_i][new_j] == 0 and color_distance <= threshold):\n",
    "                                    queue_list.append((new_i, new_j))\n",
    "                                    segment_res[new_i][new_j] = segment_counter\n",
    "                                    regeion_color0.append(input_image[new_i][new_j][0])\n",
    "                                    regeion_color1.append(input_image[new_i][new_j][1])\n",
    "                                    regeion_color2.append(input_image[new_i][new_j][2])\n",
    "                                    #\n",
    "                                    covered_pixel = covered_pixel + 1\n",
    "                                    #\n",
    "                    queue_list.popleft()\n",
    "                    color_mean.append((pd.Series(regeion_color0).median(), pd.Series(regeion_color1).median(), pd.Series(regeion_color2).median()))\n",
    "                    if (covered_pixel % 100 == 0):\n",
    "                        print 'has covered', covered_pixel\n",
    "                # debug\n",
    "                print 'covered', covered_pixel\n",
    "                #\n",
    "    res_pic = np.zeros(input_image.shape, dtype = np.uint8)\n",
    "    for i in range(res_pic.shape[0]):\n",
    "        for j in range(res_pic.shape[1]):\n",
    "            res_pic[i][j][0] = color_mean[segment_res[i][j] - 1][0]\n",
    "            res_pic[i][j][1] = color_mean[segment_res[i][j] - 1][1]\n",
    "            res_pic[i][j][2] = color_mean[segment_res[i][j] - 1][2]\n",
    "    return segment_res, res_pic"
   ]
  },
  {
   "cell_type": "code",
   "execution_count": 49,
   "metadata": {
    "collapsed": false
   },
   "outputs": [
    {
     "data": {
      "text/plain": [
       "(3168, 4752, 3)"
      ]
     },
     "execution_count": 49,
     "metadata": {},
     "output_type": "execute_result"
    }
   ],
   "source": [
    "input_image.shape"
   ]
  },
  {
   "cell_type": "code",
   "execution_count": 50,
   "metadata": {
    "collapsed": false
   },
   "outputs": [
    {
     "name": "stdout",
     "output_type": "stream",
     "text": [
      "(3168, 4752)\n",
      "start covering 0\n",
      "has covered 100\n",
      "has covered 200\n",
      "has covered 300\n",
      "has covered 400\n",
      "has covered 500\n",
      "has covered 600\n",
      "has covered 700\n",
      "has covered 800\n",
      "has covered 900\n",
      "has covered 1000\n",
      "has covered 1100\n",
      "has covered 1200\n",
      "has covered 1300\n",
      "has covered 1400\n",
      "has covered 1500\n",
      "has covered 1600\n",
      "has covered 1700\n",
      "has covered 1800\n",
      "has covered 1900\n",
      "has covered 2000\n",
      "has covered 2100\n",
      "has covered 2200\n",
      "has covered 2300\n",
      "has covered 2400\n",
      "has covered 2500\n",
      "has covered 2600\n",
      "has covered 2700\n",
      "has covered 2800\n",
      "has covered 2900\n",
      "has covered 3000\n",
      "has covered 3100\n",
      "has covered 3200\n",
      "has covered 3300\n",
      "has covered 3400\n",
      "has covered 3500\n",
      "has covered 3600\n",
      "has covered 3700\n",
      "has covered 3800\n",
      "has covered 3900\n",
      "has covered 4000\n",
      "has covered 4100\n",
      "has covered 4200\n",
      "has covered 4300\n",
      "has covered 4400\n",
      "has covered 4500\n",
      "has covered 4600\n",
      "has covered 4700\n",
      "has covered 4800\n",
      "has covered 4900\n",
      "has covered 5000\n",
      "has covered 5100\n",
      "has covered 5200\n",
      "has covered 5300\n",
      "has covered 5400\n",
      "has covered 5500\n",
      "has covered 5600\n",
      "has covered 5700\n",
      "has covered 5800\n",
      "has covered 5900\n",
      "has covered 6000\n",
      "has covered 6100\n",
      "has covered 6200\n",
      "has covered 6300\n",
      "has covered 6400\n",
      "has covered 6500\n",
      "has covered 6600\n",
      "has covered 6700\n",
      "has covered 6800\n",
      "has covered 6900\n",
      "has covered 7000\n",
      "has covered 7100\n",
      "has covered 7200\n",
      "has covered 7300\n",
      "has covered 7400\n",
      "has covered 7500\n",
      "has covered 7600\n",
      "has covered 7700\n",
      "has covered 7800\n",
      "has covered 7900\n",
      "has covered 8000\n",
      "has covered 8100\n",
      "has covered 8200\n",
      "has covered 8300\n",
      "has covered 8400\n",
      "has covered 8500\n",
      "has covered 8600\n",
      "has covered 8700\n",
      "has covered 8800\n",
      "has covered 8900\n",
      "has covered 9000\n",
      "has covered 9100\n",
      "has covered 9200\n",
      "has covered 9300\n",
      "has covered 9400\n",
      "has covered 9500\n",
      "has covered 9600\n",
      "has covered 9700\n",
      "has covered 9800\n",
      "has covered 9900\n",
      "has covered 10000\n",
      "has covered 10100\n",
      "has covered 10200\n",
      "has covered 10300\n",
      "has covered 10400\n",
      "has covered 10500\n",
      "has covered 10600\n",
      "has covered 10700\n",
      "has covered 10800\n",
      "has covered 10900\n",
      "has covered 11000\n",
      "has covered 11100\n",
      "has covered 11200\n",
      "has covered 11300\n",
      "has covered 11400\n",
      "has covered 11500\n",
      "has covered 11600\n",
      "has covered 11700\n",
      "has covered 11800\n",
      "has covered 11900\n",
      "has covered 12000\n",
      "has covered 12100\n",
      "has covered 12200\n",
      "has covered 12300\n",
      "has covered 12400\n",
      "has covered 12500\n",
      "has covered 12600\n",
      "has covered 12700\n",
      "has covered 12800\n",
      "has covered 12900\n",
      "has covered 13000\n",
      "has covered 13100\n",
      "has covered 13200\n",
      "has covered 13300\n",
      "has covered 13400\n",
      "has covered 13500\n",
      "has covered 13600\n",
      "has covered 13700\n",
      "has covered 13800\n",
      "has covered 13900\n",
      "has covered 14000\n",
      "has covered 14100\n",
      "has covered 14200\n",
      "has covered 14300\n",
      "has covered 14400\n",
      "has covered 14500\n",
      "has covered 14600\n",
      "has covered 14700\n",
      "has covered 14800\n",
      "has covered 14900\n",
      "has covered 15000\n",
      "has covered 15100\n",
      "has covered 15200\n",
      "has covered 15300\n",
      "has covered 15400\n",
      "has covered 15500\n",
      "has covered 15600\n",
      "has covered 15700\n",
      "has covered 15800\n",
      "has covered 15900\n",
      "has covered 16000\n",
      "has covered 16100\n",
      "has covered 16200\n",
      "has covered 16300\n",
      "has covered 16400\n",
      "has covered 16500\n",
      "has covered 16600\n",
      "has covered 16700\n",
      "has covered 16800\n",
      "has covered 16900\n",
      "has covered 17000\n",
      "has covered 17100\n",
      "has covered 17200\n",
      "has covered 17300\n",
      "has covered 17400\n",
      "has covered 17500\n",
      "has covered 17600\n",
      "has covered 17700\n",
      "has covered 17800\n",
      "has covered 17900\n",
      "has covered 18000\n",
      "has covered 18100\n",
      "has covered 18200\n",
      "has covered 18300\n",
      "has covered 18400\n",
      "has covered 18500\n",
      "has covered 18600\n",
      "has covered 18700\n",
      "has covered 18800\n",
      "has covered 18900\n",
      "has covered 19000\n",
      "has covered 19100\n",
      "has covered 19200\n",
      "has covered 19300\n",
      "has covered 19400\n",
      "has covered 19500\n",
      "has covered 19600\n",
      "has covered 19700\n",
      "has covered 19800\n"
     ]
    },
    {
     "ename": "KeyboardInterrupt",
     "evalue": "",
     "output_type": "error",
     "traceback": [
      "\u001b[1;31m---------------------------------------------------------------------------\u001b[0m",
      "\u001b[1;31mKeyboardInterrupt\u001b[0m                         Traceback (most recent call last)",
      "\u001b[1;32m<ipython-input-50-65dff8be73e7>\u001b[0m in \u001b[0;36m<module>\u001b[1;34m()\u001b[0m\n\u001b[1;32m----> 1\u001b[1;33m \u001b[0msegment_res\u001b[0m\u001b[1;33m,\u001b[0m \u001b[0mres_pic\u001b[0m \u001b[1;33m=\u001b[0m \u001b[0mflood_fill\u001b[0m\u001b[1;33m(\u001b[0m\u001b[0minput_image\u001b[0m\u001b[1;33m,\u001b[0m \u001b[1;36m0.1\u001b[0m\u001b[1;33m)\u001b[0m\u001b[1;33m\u001b[0m\u001b[0m\n\u001b[0m\u001b[0;32m      2\u001b[0m \u001b[0mplt\u001b[0m\u001b[1;33m.\u001b[0m\u001b[0mimshow\u001b[0m\u001b[1;33m(\u001b[0m\u001b[0mres_pic\u001b[0m\u001b[1;33m)\u001b[0m\u001b[1;33m\u001b[0m\u001b[0m\n\u001b[0;32m      3\u001b[0m \u001b[0mplt\u001b[0m\u001b[1;33m.\u001b[0m\u001b[0mshow\u001b[0m\u001b[1;33m(\u001b[0m\u001b[1;33m)\u001b[0m\u001b[1;33m\u001b[0m\u001b[0m\n",
      "\u001b[1;32m<ipython-input-48-e839482678d6>\u001b[0m in \u001b[0;36mflood_fill\u001b[1;34m(input_image, threshold)\u001b[0m\n\u001b[0;32m     40\u001b[0m                                     \u001b[1;31m#\u001b[0m\u001b[1;33m\u001b[0m\u001b[1;33m\u001b[0m\u001b[0m\n\u001b[0;32m     41\u001b[0m                     \u001b[0mqueue_list\u001b[0m\u001b[1;33m.\u001b[0m\u001b[0mpopleft\u001b[0m\u001b[1;33m(\u001b[0m\u001b[1;33m)\u001b[0m\u001b[1;33m\u001b[0m\u001b[0m\n\u001b[1;32m---> 42\u001b[1;33m                     \u001b[0mcolor_mean\u001b[0m\u001b[1;33m.\u001b[0m\u001b[0mappend\u001b[0m\u001b[1;33m(\u001b[0m\u001b[1;33m(\u001b[0m\u001b[0mpd\u001b[0m\u001b[1;33m.\u001b[0m\u001b[0mSeries\u001b[0m\u001b[1;33m(\u001b[0m\u001b[0mregeion_color0\u001b[0m\u001b[1;33m)\u001b[0m\u001b[1;33m.\u001b[0m\u001b[0mmedian\u001b[0m\u001b[1;33m(\u001b[0m\u001b[1;33m)\u001b[0m\u001b[1;33m,\u001b[0m \u001b[0mpd\u001b[0m\u001b[1;33m.\u001b[0m\u001b[0mSeries\u001b[0m\u001b[1;33m(\u001b[0m\u001b[0mregeion_color1\u001b[0m\u001b[1;33m)\u001b[0m\u001b[1;33m.\u001b[0m\u001b[0mmedian\u001b[0m\u001b[1;33m(\u001b[0m\u001b[1;33m)\u001b[0m\u001b[1;33m,\u001b[0m \u001b[0mpd\u001b[0m\u001b[1;33m.\u001b[0m\u001b[0mSeries\u001b[0m\u001b[1;33m(\u001b[0m\u001b[0mregeion_color2\u001b[0m\u001b[1;33m)\u001b[0m\u001b[1;33m.\u001b[0m\u001b[0mmedian\u001b[0m\u001b[1;33m(\u001b[0m\u001b[1;33m)\u001b[0m\u001b[1;33m)\u001b[0m\u001b[1;33m)\u001b[0m\u001b[1;33m\u001b[0m\u001b[0m\n\u001b[0m\u001b[0;32m     43\u001b[0m                     \u001b[1;32mif\u001b[0m \u001b[1;33m(\u001b[0m\u001b[0mcovered_pixel\u001b[0m \u001b[1;33m%\u001b[0m \u001b[1;36m100\u001b[0m \u001b[1;33m==\u001b[0m \u001b[1;36m0\u001b[0m\u001b[1;33m)\u001b[0m\u001b[1;33m:\u001b[0m\u001b[1;33m\u001b[0m\u001b[0m\n\u001b[0;32m     44\u001b[0m                         \u001b[1;32mprint\u001b[0m \u001b[1;34m'has covered'\u001b[0m\u001b[1;33m,\u001b[0m \u001b[0mcovered_pixel\u001b[0m\u001b[1;33m\u001b[0m\u001b[0m\n",
      "\u001b[1;32m/home/ljc/anaconda/lib/python2.7/site-packages/pandas/core/generic.pyc\u001b[0m in \u001b[0;36mstat_func\u001b[1;34m(self, axis, skipna, level, numeric_only, **kwargs)\u001b[0m\n\u001b[0;32m   3783\u001b[0m                                               skipna=skipna)\n\u001b[0;32m   3784\u001b[0m                 return self._reduce(f, axis=axis,\n\u001b[1;32m-> 3785\u001b[1;33m                                     skipna=skipna, numeric_only=numeric_only)\n\u001b[0m\u001b[0;32m   3786\u001b[0m             \u001b[0mstat_func\u001b[0m\u001b[1;33m.\u001b[0m\u001b[0m__name__\u001b[0m \u001b[1;33m=\u001b[0m \u001b[0mname\u001b[0m\u001b[1;33m\u001b[0m\u001b[0m\n\u001b[0;32m   3787\u001b[0m             \u001b[1;32mreturn\u001b[0m \u001b[0mstat_func\u001b[0m\u001b[1;33m\u001b[0m\u001b[0m\n",
      "\u001b[1;32m/home/ljc/anaconda/lib/python2.7/site-packages/pandas/core/series.pyc\u001b[0m in \u001b[0;36m_reduce\u001b[1;34m(self, op, axis, skipna, numeric_only, filter_type, **kwds)\u001b[0m\n\u001b[0;32m   2007\u001b[0m                 filter_type=None, **kwds):\n\u001b[0;32m   2008\u001b[0m         \u001b[1;34m\"\"\" perform a reduction operation \"\"\"\u001b[0m\u001b[1;33m\u001b[0m\u001b[0m\n\u001b[1;32m-> 2009\u001b[1;33m         \u001b[1;32mreturn\u001b[0m \u001b[0mop\u001b[0m\u001b[1;33m(\u001b[0m\u001b[0m_values_from_object\u001b[0m\u001b[1;33m(\u001b[0m\u001b[0mself\u001b[0m\u001b[1;33m)\u001b[0m\u001b[1;33m,\u001b[0m \u001b[0mskipna\u001b[0m\u001b[1;33m=\u001b[0m\u001b[0mskipna\u001b[0m\u001b[1;33m,\u001b[0m \u001b[1;33m**\u001b[0m\u001b[0mkwds\u001b[0m\u001b[1;33m)\u001b[0m\u001b[1;33m\u001b[0m\u001b[0m\n\u001b[0m\u001b[0;32m   2010\u001b[0m \u001b[1;33m\u001b[0m\u001b[0m\n\u001b[0;32m   2011\u001b[0m     \u001b[1;32mdef\u001b[0m \u001b[0m_reindex_indexer\u001b[0m\u001b[1;33m(\u001b[0m\u001b[0mself\u001b[0m\u001b[1;33m,\u001b[0m \u001b[0mnew_index\u001b[0m\u001b[1;33m,\u001b[0m \u001b[0mindexer\u001b[0m\u001b[1;33m,\u001b[0m \u001b[0mcopy\u001b[0m\u001b[1;33m)\u001b[0m\u001b[1;33m:\u001b[0m\u001b[1;33m\u001b[0m\u001b[0m\n",
      "\u001b[1;32m/home/ljc/anaconda/lib/python2.7/site-packages/pandas/core/nanops.pyc\u001b[0m in \u001b[0;36m_f\u001b[1;34m(*args, **kwargs)\u001b[0m\n\u001b[0;32m     46\u001b[0m                                 'this dtype'.format(f.__name__.replace('nan',\n\u001b[0;32m     47\u001b[0m                                                                        '')))\n\u001b[1;32m---> 48\u001b[1;33m             \u001b[1;32mreturn\u001b[0m \u001b[0mf\u001b[0m\u001b[1;33m(\u001b[0m\u001b[1;33m*\u001b[0m\u001b[0margs\u001b[0m\u001b[1;33m,\u001b[0m \u001b[1;33m**\u001b[0m\u001b[0mkwargs\u001b[0m\u001b[1;33m)\u001b[0m\u001b[1;33m\u001b[0m\u001b[0m\n\u001b[0m\u001b[0;32m     49\u001b[0m         \u001b[1;32mreturn\u001b[0m \u001b[0m_f\u001b[0m\u001b[1;33m\u001b[0m\u001b[0m\n\u001b[0;32m     50\u001b[0m \u001b[1;33m\u001b[0m\u001b[0m\n",
      "\u001b[1;32m/home/ljc/anaconda/lib/python2.7/site-packages/pandas/core/nanops.pyc\u001b[0m in \u001b[0;36mf\u001b[1;34m(values, axis, skipna, **kwds)\u001b[0m\n\u001b[0;32m     90\u001b[0m                         \u001b[0mresult\u001b[0m \u001b[1;33m=\u001b[0m \u001b[0malt\u001b[0m\u001b[1;33m(\u001b[0m\u001b[0mvalues\u001b[0m\u001b[1;33m,\u001b[0m \u001b[0maxis\u001b[0m\u001b[1;33m=\u001b[0m\u001b[0maxis\u001b[0m\u001b[1;33m,\u001b[0m \u001b[0mskipna\u001b[0m\u001b[1;33m=\u001b[0m\u001b[0mskipna\u001b[0m\u001b[1;33m,\u001b[0m \u001b[1;33m**\u001b[0m\u001b[0mkwds\u001b[0m\u001b[1;33m)\u001b[0m\u001b[1;33m\u001b[0m\u001b[0m\n\u001b[0;32m     91\u001b[0m                 \u001b[1;32melse\u001b[0m\u001b[1;33m:\u001b[0m\u001b[1;33m\u001b[0m\u001b[0m\n\u001b[1;32m---> 92\u001b[1;33m                     \u001b[0mresult\u001b[0m \u001b[1;33m=\u001b[0m \u001b[0malt\u001b[0m\u001b[1;33m(\u001b[0m\u001b[0mvalues\u001b[0m\u001b[1;33m,\u001b[0m \u001b[0maxis\u001b[0m\u001b[1;33m=\u001b[0m\u001b[0maxis\u001b[0m\u001b[1;33m,\u001b[0m \u001b[0mskipna\u001b[0m\u001b[1;33m=\u001b[0m\u001b[0mskipna\u001b[0m\u001b[1;33m,\u001b[0m \u001b[1;33m**\u001b[0m\u001b[0mkwds\u001b[0m\u001b[1;33m)\u001b[0m\u001b[1;33m\u001b[0m\u001b[0m\n\u001b[0m\u001b[0;32m     93\u001b[0m             \u001b[1;32mexcept\u001b[0m \u001b[0mException\u001b[0m\u001b[1;33m:\u001b[0m\u001b[1;33m\u001b[0m\u001b[0m\n\u001b[0;32m     94\u001b[0m                 \u001b[0mresult\u001b[0m \u001b[1;33m=\u001b[0m \u001b[0malt\u001b[0m\u001b[1;33m(\u001b[0m\u001b[0mvalues\u001b[0m\u001b[1;33m,\u001b[0m \u001b[0maxis\u001b[0m\u001b[1;33m=\u001b[0m\u001b[0maxis\u001b[0m\u001b[1;33m,\u001b[0m \u001b[0mskipna\u001b[0m\u001b[1;33m=\u001b[0m\u001b[0mskipna\u001b[0m\u001b[1;33m,\u001b[0m \u001b[1;33m**\u001b[0m\u001b[0mkwds\u001b[0m\u001b[1;33m)\u001b[0m\u001b[1;33m\u001b[0m\u001b[0m\n",
      "\u001b[1;32m/home/ljc/anaconda/lib/python2.7/site-packages/pandas/core/nanops.pyc\u001b[0m in \u001b[0;36mnanmedian\u001b[1;34m(values, axis, skipna)\u001b[0m\n\u001b[0;32m    315\u001b[0m \u001b[1;33m\u001b[0m\u001b[0m\n\u001b[0;32m    316\u001b[0m     \u001b[1;31m# otherwise return a scalar value\u001b[0m\u001b[1;33m\u001b[0m\u001b[1;33m\u001b[0m\u001b[0m\n\u001b[1;32m--> 317\u001b[1;33m     \u001b[1;32mreturn\u001b[0m \u001b[0m_wrap_results\u001b[0m\u001b[1;33m(\u001b[0m\u001b[0mget_median\u001b[0m\u001b[1;33m(\u001b[0m\u001b[0mvalues\u001b[0m\u001b[1;33m)\u001b[0m\u001b[1;33m,\u001b[0m \u001b[0mdtype\u001b[0m\u001b[1;33m)\u001b[0m \u001b[1;32mif\u001b[0m \u001b[0mnotempty\u001b[0m \u001b[1;32melse\u001b[0m \u001b[0mnp\u001b[0m\u001b[1;33m.\u001b[0m\u001b[0mnan\u001b[0m\u001b[1;33m\u001b[0m\u001b[0m\n\u001b[0m\u001b[0;32m    318\u001b[0m \u001b[1;33m\u001b[0m\u001b[0m\n\u001b[0;32m    319\u001b[0m \u001b[1;33m\u001b[0m\u001b[0m\n",
      "\u001b[1;32m/home/ljc/anaconda/lib/python2.7/site-packages/pandas/core/nanops.pyc\u001b[0m in \u001b[0;36mget_median\u001b[1;34m(x)\u001b[0m\n\u001b[0;32m    288\u001b[0m         \u001b[1;32mif\u001b[0m \u001b[1;32mnot\u001b[0m \u001b[0mskipna\u001b[0m \u001b[1;32mand\u001b[0m \u001b[1;32mnot\u001b[0m \u001b[0mmask\u001b[0m\u001b[1;33m.\u001b[0m\u001b[0mall\u001b[0m\u001b[1;33m(\u001b[0m\u001b[1;33m)\u001b[0m\u001b[1;33m:\u001b[0m\u001b[1;33m\u001b[0m\u001b[0m\n\u001b[0;32m    289\u001b[0m             \u001b[1;32mreturn\u001b[0m \u001b[0mnp\u001b[0m\u001b[1;33m.\u001b[0m\u001b[0mnan\u001b[0m\u001b[1;33m\u001b[0m\u001b[0m\n\u001b[1;32m--> 290\u001b[1;33m         \u001b[1;32mreturn\u001b[0m \u001b[0malgos\u001b[0m\u001b[1;33m.\u001b[0m\u001b[0mmedian\u001b[0m\u001b[1;33m(\u001b[0m\u001b[0m_values_from_object\u001b[0m\u001b[1;33m(\u001b[0m\u001b[0mx\u001b[0m\u001b[1;33m[\u001b[0m\u001b[0mmask\u001b[0m\u001b[1;33m]\u001b[0m\u001b[1;33m)\u001b[0m\u001b[1;33m)\u001b[0m\u001b[1;33m\u001b[0m\u001b[0m\n\u001b[0m\u001b[0;32m    291\u001b[0m \u001b[1;33m\u001b[0m\u001b[0m\n\u001b[0;32m    292\u001b[0m     \u001b[1;32mif\u001b[0m \u001b[0mvalues\u001b[0m\u001b[1;33m.\u001b[0m\u001b[0mdtype\u001b[0m \u001b[1;33m!=\u001b[0m \u001b[0mnp\u001b[0m\u001b[1;33m.\u001b[0m\u001b[0mfloat64\u001b[0m\u001b[1;33m:\u001b[0m\u001b[1;33m\u001b[0m\u001b[0m\n",
      "\u001b[1;31mKeyboardInterrupt\u001b[0m: "
     ]
    }
   ],
   "source": [
    "segment_res, res_pic = flood_fill(input_image, 0.1)\n",
    "plt.imshow(res_pic)\n",
    "plt.show()"
   ]
  },
  {
   "cell_type": "code",
   "execution_count": 40,
   "metadata": {
    "collapsed": false
   },
   "outputs": [
    {
     "name": "stdout",
     "output_type": "stream",
     "text": [
      "2\n"
     ]
    }
   ],
   "source": [
    "test_list = [(10, 8), (9, 2), (23, 4)]\n",
    "print test_list[1][1]"
   ]
  },
  {
   "cell_type": "code",
   "execution_count": 22,
   "metadata": {
    "collapsed": false
   },
   "outputs": [
    {
     "data": {
      "text/plain": [
       "array([202, 174, 134], dtype=uint8)"
      ]
     },
     "execution_count": 22,
     "metadata": {},
     "output_type": "execute_result"
    }
   ],
   "source": [
    "input_image[1000][2000]"
   ]
  },
  {
   "cell_type": "code",
   "execution_count": null,
   "metadata": {
    "collapsed": true
   },
   "outputs": [],
   "source": []
  }
 ],
 "metadata": {
  "kernelspec": {
   "display_name": "Python 2",
   "language": "python",
   "name": "python2"
  },
  "language_info": {
   "codemirror_mode": {
    "name": "ipython",
    "version": 2
   },
   "file_extension": ".py",
   "mimetype": "text/x-python",
   "name": "python",
   "nbconvert_exporter": "python",
   "pygments_lexer": "ipython2",
   "version": "2.7.9"
  }
 },
 "nbformat": 4,
 "nbformat_minor": 0
}
